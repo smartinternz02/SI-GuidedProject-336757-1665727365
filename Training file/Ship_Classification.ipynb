{
  "cells": [
    {
      "cell_type": "code",
      "execution_count": 2,
      "metadata": {
        "colab": {
          "base_uri": "https://localhost:8080/"
        },
        "id": "bgWkb5rsI4rn",
        "outputId": "8929ec52-5c6a-4132-a211-83609af867e5"
      },
      "outputs": [
        {
          "output_type": "stream",
          "name": "stdout",
          "text": [
            "Mounted at /content/drive\n"
          ]
        }
      ],
      "source": [
        "from google.colab import drive\n",
        "drive.mount('/content/drive')"
      ],
      "id": "bgWkb5rsI4rn"
    },
    {
      "cell_type": "code",
      "execution_count": 3,
      "metadata": {
        "id": "1f7831a9"
      },
      "outputs": [],
      "source": [
        "import numpy as np\n",
        "import pandas as pd\n",
        "import matplotlib.pyplot as plt\n",
        "import seaborn as sb\n",
        "from tqdm import tqdm\n",
        "import cv2\n",
        "import os\n",
        "import gc"
      ],
      "id": "1f7831a9"
    },
    {
      "cell_type": "code",
      "execution_count": 4,
      "metadata": {
        "colab": {
          "base_uri": "https://localhost:8080/"
        },
        "id": "add439ec",
        "outputId": "c25b90a8-d882-4d63-e03a-83d080a8ba54"
      },
      "outputs": [
        {
          "output_type": "stream",
          "name": "stdout",
          "text": [
            "['train.csv', 'test_ApKoW4T.csv', 'train', 'images', 'test']\n"
          ]
        }
      ],
      "source": [
        "print(os.listdir(\"/content/drive/MyDrive/SmartBridge/Ship Classification/input\"))"
      ],
      "id": "add439ec"
    },
    {
      "cell_type": "code",
      "execution_count": 5,
      "metadata": {
        "id": "f90468ea"
      },
      "outputs": [],
      "source": [
        "path = \"/content/drive/MyDrive/SmartBridge/Ship Classification/input/train/images\"\n",
        "train_files = pd.read_csv('/content/drive/MyDrive/SmartBridge/Ship Classification/input/train.csv', dtype={'image': 'object', 'category': 'int8'})\n",
        "test_files = pd.read_csv('/content/drive/MyDrive/SmartBridge/Ship Classification/input/test_ApKoW4T.csv')"
      ],
      "id": "f90468ea"
    },
    {
      "cell_type": "code",
      "execution_count": 6,
      "metadata": {
        "colab": {
          "base_uri": "https://localhost:8080/",
          "height": 206
        },
        "id": "b3b4bc76",
        "outputId": "e8789cda-f6b7-42c0-f1b7-8f21ad2fa8ed"
      },
      "outputs": [
        {
          "output_type": "execute_result",
          "data": {
            "text/plain": [
              "         image  category\n",
              "0  2823080.jpg         1\n",
              "1  2870024.jpg         1\n",
              "2  2662125.jpg         2\n",
              "3  2900420.jpg         3\n",
              "4  2804883.jpg         2"
            ],
            "text/html": [
              "\n",
              "  <div id=\"df-b456c3a3-4fad-42e1-8343-8c8c216a3b06\">\n",
              "    <div class=\"colab-df-container\">\n",
              "      <div>\n",
              "<style scoped>\n",
              "    .dataframe tbody tr th:only-of-type {\n",
              "        vertical-align: middle;\n",
              "    }\n",
              "\n",
              "    .dataframe tbody tr th {\n",
              "        vertical-align: top;\n",
              "    }\n",
              "\n",
              "    .dataframe thead th {\n",
              "        text-align: right;\n",
              "    }\n",
              "</style>\n",
              "<table border=\"1\" class=\"dataframe\">\n",
              "  <thead>\n",
              "    <tr style=\"text-align: right;\">\n",
              "      <th></th>\n",
              "      <th>image</th>\n",
              "      <th>category</th>\n",
              "    </tr>\n",
              "  </thead>\n",
              "  <tbody>\n",
              "    <tr>\n",
              "      <th>0</th>\n",
              "      <td>2823080.jpg</td>\n",
              "      <td>1</td>\n",
              "    </tr>\n",
              "    <tr>\n",
              "      <th>1</th>\n",
              "      <td>2870024.jpg</td>\n",
              "      <td>1</td>\n",
              "    </tr>\n",
              "    <tr>\n",
              "      <th>2</th>\n",
              "      <td>2662125.jpg</td>\n",
              "      <td>2</td>\n",
              "    </tr>\n",
              "    <tr>\n",
              "      <th>3</th>\n",
              "      <td>2900420.jpg</td>\n",
              "      <td>3</td>\n",
              "    </tr>\n",
              "    <tr>\n",
              "      <th>4</th>\n",
              "      <td>2804883.jpg</td>\n",
              "      <td>2</td>\n",
              "    </tr>\n",
              "  </tbody>\n",
              "</table>\n",
              "</div>\n",
              "      <button class=\"colab-df-convert\" onclick=\"convertToInteractive('df-b456c3a3-4fad-42e1-8343-8c8c216a3b06')\"\n",
              "              title=\"Convert this dataframe to an interactive table.\"\n",
              "              style=\"display:none;\">\n",
              "        \n",
              "  <svg xmlns=\"http://www.w3.org/2000/svg\" height=\"24px\"viewBox=\"0 0 24 24\"\n",
              "       width=\"24px\">\n",
              "    <path d=\"M0 0h24v24H0V0z\" fill=\"none\"/>\n",
              "    <path d=\"M18.56 5.44l.94 2.06.94-2.06 2.06-.94-2.06-.94-.94-2.06-.94 2.06-2.06.94zm-11 1L8.5 8.5l.94-2.06 2.06-.94-2.06-.94L8.5 2.5l-.94 2.06-2.06.94zm10 10l.94 2.06.94-2.06 2.06-.94-2.06-.94-.94-2.06-.94 2.06-2.06.94z\"/><path d=\"M17.41 7.96l-1.37-1.37c-.4-.4-.92-.59-1.43-.59-.52 0-1.04.2-1.43.59L10.3 9.45l-7.72 7.72c-.78.78-.78 2.05 0 2.83L4 21.41c.39.39.9.59 1.41.59.51 0 1.02-.2 1.41-.59l7.78-7.78 2.81-2.81c.8-.78.8-2.07 0-2.86zM5.41 20L4 18.59l7.72-7.72 1.47 1.35L5.41 20z\"/>\n",
              "  </svg>\n",
              "      </button>\n",
              "      \n",
              "  <style>\n",
              "    .colab-df-container {\n",
              "      display:flex;\n",
              "      flex-wrap:wrap;\n",
              "      gap: 12px;\n",
              "    }\n",
              "\n",
              "    .colab-df-convert {\n",
              "      background-color: #E8F0FE;\n",
              "      border: none;\n",
              "      border-radius: 50%;\n",
              "      cursor: pointer;\n",
              "      display: none;\n",
              "      fill: #1967D2;\n",
              "      height: 32px;\n",
              "      padding: 0 0 0 0;\n",
              "      width: 32px;\n",
              "    }\n",
              "\n",
              "    .colab-df-convert:hover {\n",
              "      background-color: #E2EBFA;\n",
              "      box-shadow: 0px 1px 2px rgba(60, 64, 67, 0.3), 0px 1px 3px 1px rgba(60, 64, 67, 0.15);\n",
              "      fill: #174EA6;\n",
              "    }\n",
              "\n",
              "    [theme=dark] .colab-df-convert {\n",
              "      background-color: #3B4455;\n",
              "      fill: #D2E3FC;\n",
              "    }\n",
              "\n",
              "    [theme=dark] .colab-df-convert:hover {\n",
              "      background-color: #434B5C;\n",
              "      box-shadow: 0px 1px 3px 1px rgba(0, 0, 0, 0.15);\n",
              "      filter: drop-shadow(0px 1px 2px rgba(0, 0, 0, 0.3));\n",
              "      fill: #FFFFFF;\n",
              "    }\n",
              "  </style>\n",
              "\n",
              "      <script>\n",
              "        const buttonEl =\n",
              "          document.querySelector('#df-b456c3a3-4fad-42e1-8343-8c8c216a3b06 button.colab-df-convert');\n",
              "        buttonEl.style.display =\n",
              "          google.colab.kernel.accessAllowed ? 'block' : 'none';\n",
              "\n",
              "        async function convertToInteractive(key) {\n",
              "          const element = document.querySelector('#df-b456c3a3-4fad-42e1-8343-8c8c216a3b06');\n",
              "          const dataTable =\n",
              "            await google.colab.kernel.invokeFunction('convertToInteractive',\n",
              "                                                     [key], {});\n",
              "          if (!dataTable) return;\n",
              "\n",
              "          const docLinkHtml = 'Like what you see? Visit the ' +\n",
              "            '<a target=\"_blank\" href=https://colab.research.google.com/notebooks/data_table.ipynb>data table notebook</a>'\n",
              "            + ' to learn more about interactive tables.';\n",
              "          element.innerHTML = '';\n",
              "          dataTable['output_type'] = 'display_data';\n",
              "          await google.colab.output.renderOutput(dataTable, element);\n",
              "          const docLink = document.createElement('div');\n",
              "          docLink.innerHTML = docLinkHtml;\n",
              "          element.appendChild(docLink);\n",
              "        }\n",
              "      </script>\n",
              "    </div>\n",
              "  </div>\n",
              "  "
            ]
          },
          "metadata": {},
          "execution_count": 6
        }
      ],
      "source": [
        "train_files.head()"
      ],
      "id": "b3b4bc76"
    },
    {
      "cell_type": "code",
      "execution_count": 7,
      "metadata": {
        "colab": {
          "base_uri": "https://localhost:8080/",
          "height": 206
        },
        "id": "8852f60c",
        "outputId": "9017db48-9cd5-402d-b457-4aa1b1919e35"
      },
      "outputs": [
        {
          "output_type": "execute_result",
          "data": {
            "text/plain": [
              "         image\n",
              "0  1007700.jpg\n",
              "1  1011369.jpg\n",
              "2  1051155.jpg\n",
              "3  1062001.jpg\n",
              "4  1069397.jpg"
            ],
            "text/html": [
              "\n",
              "  <div id=\"df-1e8acad4-45d1-4fbb-8e95-b8e79d096aaa\">\n",
              "    <div class=\"colab-df-container\">\n",
              "      <div>\n",
              "<style scoped>\n",
              "    .dataframe tbody tr th:only-of-type {\n",
              "        vertical-align: middle;\n",
              "    }\n",
              "\n",
              "    .dataframe tbody tr th {\n",
              "        vertical-align: top;\n",
              "    }\n",
              "\n",
              "    .dataframe thead th {\n",
              "        text-align: right;\n",
              "    }\n",
              "</style>\n",
              "<table border=\"1\" class=\"dataframe\">\n",
              "  <thead>\n",
              "    <tr style=\"text-align: right;\">\n",
              "      <th></th>\n",
              "      <th>image</th>\n",
              "    </tr>\n",
              "  </thead>\n",
              "  <tbody>\n",
              "    <tr>\n",
              "      <th>0</th>\n",
              "      <td>1007700.jpg</td>\n",
              "    </tr>\n",
              "    <tr>\n",
              "      <th>1</th>\n",
              "      <td>1011369.jpg</td>\n",
              "    </tr>\n",
              "    <tr>\n",
              "      <th>2</th>\n",
              "      <td>1051155.jpg</td>\n",
              "    </tr>\n",
              "    <tr>\n",
              "      <th>3</th>\n",
              "      <td>1062001.jpg</td>\n",
              "    </tr>\n",
              "    <tr>\n",
              "      <th>4</th>\n",
              "      <td>1069397.jpg</td>\n",
              "    </tr>\n",
              "  </tbody>\n",
              "</table>\n",
              "</div>\n",
              "      <button class=\"colab-df-convert\" onclick=\"convertToInteractive('df-1e8acad4-45d1-4fbb-8e95-b8e79d096aaa')\"\n",
              "              title=\"Convert this dataframe to an interactive table.\"\n",
              "              style=\"display:none;\">\n",
              "        \n",
              "  <svg xmlns=\"http://www.w3.org/2000/svg\" height=\"24px\"viewBox=\"0 0 24 24\"\n",
              "       width=\"24px\">\n",
              "    <path d=\"M0 0h24v24H0V0z\" fill=\"none\"/>\n",
              "    <path d=\"M18.56 5.44l.94 2.06.94-2.06 2.06-.94-2.06-.94-.94-2.06-.94 2.06-2.06.94zm-11 1L8.5 8.5l.94-2.06 2.06-.94-2.06-.94L8.5 2.5l-.94 2.06-2.06.94zm10 10l.94 2.06.94-2.06 2.06-.94-2.06-.94-.94-2.06-.94 2.06-2.06.94z\"/><path d=\"M17.41 7.96l-1.37-1.37c-.4-.4-.92-.59-1.43-.59-.52 0-1.04.2-1.43.59L10.3 9.45l-7.72 7.72c-.78.78-.78 2.05 0 2.83L4 21.41c.39.39.9.59 1.41.59.51 0 1.02-.2 1.41-.59l7.78-7.78 2.81-2.81c.8-.78.8-2.07 0-2.86zM5.41 20L4 18.59l7.72-7.72 1.47 1.35L5.41 20z\"/>\n",
              "  </svg>\n",
              "      </button>\n",
              "      \n",
              "  <style>\n",
              "    .colab-df-container {\n",
              "      display:flex;\n",
              "      flex-wrap:wrap;\n",
              "      gap: 12px;\n",
              "    }\n",
              "\n",
              "    .colab-df-convert {\n",
              "      background-color: #E8F0FE;\n",
              "      border: none;\n",
              "      border-radius: 50%;\n",
              "      cursor: pointer;\n",
              "      display: none;\n",
              "      fill: #1967D2;\n",
              "      height: 32px;\n",
              "      padding: 0 0 0 0;\n",
              "      width: 32px;\n",
              "    }\n",
              "\n",
              "    .colab-df-convert:hover {\n",
              "      background-color: #E2EBFA;\n",
              "      box-shadow: 0px 1px 2px rgba(60, 64, 67, 0.3), 0px 1px 3px 1px rgba(60, 64, 67, 0.15);\n",
              "      fill: #174EA6;\n",
              "    }\n",
              "\n",
              "    [theme=dark] .colab-df-convert {\n",
              "      background-color: #3B4455;\n",
              "      fill: #D2E3FC;\n",
              "    }\n",
              "\n",
              "    [theme=dark] .colab-df-convert:hover {\n",
              "      background-color: #434B5C;\n",
              "      box-shadow: 0px 1px 3px 1px rgba(0, 0, 0, 0.15);\n",
              "      filter: drop-shadow(0px 1px 2px rgba(0, 0, 0, 0.3));\n",
              "      fill: #FFFFFF;\n",
              "    }\n",
              "  </style>\n",
              "\n",
              "      <script>\n",
              "        const buttonEl =\n",
              "          document.querySelector('#df-1e8acad4-45d1-4fbb-8e95-b8e79d096aaa button.colab-df-convert');\n",
              "        buttonEl.style.display =\n",
              "          google.colab.kernel.accessAllowed ? 'block' : 'none';\n",
              "\n",
              "        async function convertToInteractive(key) {\n",
              "          const element = document.querySelector('#df-1e8acad4-45d1-4fbb-8e95-b8e79d096aaa');\n",
              "          const dataTable =\n",
              "            await google.colab.kernel.invokeFunction('convertToInteractive',\n",
              "                                                     [key], {});\n",
              "          if (!dataTable) return;\n",
              "\n",
              "          const docLinkHtml = 'Like what you see? Visit the ' +\n",
              "            '<a target=\"_blank\" href=https://colab.research.google.com/notebooks/data_table.ipynb>data table notebook</a>'\n",
              "            + ' to learn more about interactive tables.';\n",
              "          element.innerHTML = '';\n",
              "          dataTable['output_type'] = 'display_data';\n",
              "          await google.colab.output.renderOutput(dataTable, element);\n",
              "          const docLink = document.createElement('div');\n",
              "          docLink.innerHTML = docLinkHtml;\n",
              "          element.appendChild(docLink);\n",
              "        }\n",
              "      </script>\n",
              "    </div>\n",
              "  </div>\n",
              "  "
            ]
          },
          "metadata": {},
          "execution_count": 7
        }
      ],
      "source": [
        "test_files.head()"
      ],
      "id": "8852f60c"
    },
    {
      "cell_type": "code",
      "execution_count": 8,
      "metadata": {
        "colab": {
          "base_uri": "https://localhost:8080/",
          "height": 49
        },
        "id": "a510e8be",
        "outputId": "70f99abe-4509-4733-df1b-8511f58b842e"
      },
      "outputs": [
        {
          "output_type": "execute_result",
          "data": {
            "text/plain": [
              "Empty DataFrame\n",
              "Columns: [image, category]\n",
              "Index: []"
            ],
            "text/html": [
              "\n",
              "  <div id=\"df-5545b0aa-5494-4a30-b4ed-b8930d312fd5\">\n",
              "    <div class=\"colab-df-container\">\n",
              "      <div>\n",
              "<style scoped>\n",
              "    .dataframe tbody tr th:only-of-type {\n",
              "        vertical-align: middle;\n",
              "    }\n",
              "\n",
              "    .dataframe tbody tr th {\n",
              "        vertical-align: top;\n",
              "    }\n",
              "\n",
              "    .dataframe thead th {\n",
              "        text-align: right;\n",
              "    }\n",
              "</style>\n",
              "<table border=\"1\" class=\"dataframe\">\n",
              "  <thead>\n",
              "    <tr style=\"text-align: right;\">\n",
              "      <th></th>\n",
              "      <th>image</th>\n",
              "      <th>category</th>\n",
              "    </tr>\n",
              "  </thead>\n",
              "  <tbody>\n",
              "  </tbody>\n",
              "</table>\n",
              "</div>\n",
              "      <button class=\"colab-df-convert\" onclick=\"convertToInteractive('df-5545b0aa-5494-4a30-b4ed-b8930d312fd5')\"\n",
              "              title=\"Convert this dataframe to an interactive table.\"\n",
              "              style=\"display:none;\">\n",
              "        \n",
              "  <svg xmlns=\"http://www.w3.org/2000/svg\" height=\"24px\"viewBox=\"0 0 24 24\"\n",
              "       width=\"24px\">\n",
              "    <path d=\"M0 0h24v24H0V0z\" fill=\"none\"/>\n",
              "    <path d=\"M18.56 5.44l.94 2.06.94-2.06 2.06-.94-2.06-.94-.94-2.06-.94 2.06-2.06.94zm-11 1L8.5 8.5l.94-2.06 2.06-.94-2.06-.94L8.5 2.5l-.94 2.06-2.06.94zm10 10l.94 2.06.94-2.06 2.06-.94-2.06-.94-.94-2.06-.94 2.06-2.06.94z\"/><path d=\"M17.41 7.96l-1.37-1.37c-.4-.4-.92-.59-1.43-.59-.52 0-1.04.2-1.43.59L10.3 9.45l-7.72 7.72c-.78.78-.78 2.05 0 2.83L4 21.41c.39.39.9.59 1.41.59.51 0 1.02-.2 1.41-.59l7.78-7.78 2.81-2.81c.8-.78.8-2.07 0-2.86zM5.41 20L4 18.59l7.72-7.72 1.47 1.35L5.41 20z\"/>\n",
              "  </svg>\n",
              "      </button>\n",
              "      \n",
              "  <style>\n",
              "    .colab-df-container {\n",
              "      display:flex;\n",
              "      flex-wrap:wrap;\n",
              "      gap: 12px;\n",
              "    }\n",
              "\n",
              "    .colab-df-convert {\n",
              "      background-color: #E8F0FE;\n",
              "      border: none;\n",
              "      border-radius: 50%;\n",
              "      cursor: pointer;\n",
              "      display: none;\n",
              "      fill: #1967D2;\n",
              "      height: 32px;\n",
              "      padding: 0 0 0 0;\n",
              "      width: 32px;\n",
              "    }\n",
              "\n",
              "    .colab-df-convert:hover {\n",
              "      background-color: #E2EBFA;\n",
              "      box-shadow: 0px 1px 2px rgba(60, 64, 67, 0.3), 0px 1px 3px 1px rgba(60, 64, 67, 0.15);\n",
              "      fill: #174EA6;\n",
              "    }\n",
              "\n",
              "    [theme=dark] .colab-df-convert {\n",
              "      background-color: #3B4455;\n",
              "      fill: #D2E3FC;\n",
              "    }\n",
              "\n",
              "    [theme=dark] .colab-df-convert:hover {\n",
              "      background-color: #434B5C;\n",
              "      box-shadow: 0px 1px 3px 1px rgba(0, 0, 0, 0.15);\n",
              "      filter: drop-shadow(0px 1px 2px rgba(0, 0, 0, 0.3));\n",
              "      fill: #FFFFFF;\n",
              "    }\n",
              "  </style>\n",
              "\n",
              "      <script>\n",
              "        const buttonEl =\n",
              "          document.querySelector('#df-5545b0aa-5494-4a30-b4ed-b8930d312fd5 button.colab-df-convert');\n",
              "        buttonEl.style.display =\n",
              "          google.colab.kernel.accessAllowed ? 'block' : 'none';\n",
              "\n",
              "        async function convertToInteractive(key) {\n",
              "          const element = document.querySelector('#df-5545b0aa-5494-4a30-b4ed-b8930d312fd5');\n",
              "          const dataTable =\n",
              "            await google.colab.kernel.invokeFunction('convertToInteractive',\n",
              "                                                     [key], {});\n",
              "          if (!dataTable) return;\n",
              "\n",
              "          const docLinkHtml = 'Like what you see? Visit the ' +\n",
              "            '<a target=\"_blank\" href=https://colab.research.google.com/notebooks/data_table.ipynb>data table notebook</a>'\n",
              "            + ' to learn more about interactive tables.';\n",
              "          element.innerHTML = '';\n",
              "          dataTable['output_type'] = 'display_data';\n",
              "          await google.colab.output.renderOutput(dataTable, element);\n",
              "          const docLink = document.createElement('div');\n",
              "          docLink.innerHTML = docLinkHtml;\n",
              "          element.appendChild(docLink);\n",
              "        }\n",
              "      </script>\n",
              "    </div>\n",
              "  </div>\n",
              "  "
            ]
          },
          "metadata": {},
          "execution_count": 8
        }
      ],
      "source": [
        "train_files[train_files.isnull().any(axis=1)]"
      ],
      "id": "a510e8be"
    },
    {
      "cell_type": "code",
      "execution_count": 10,
      "metadata": {
        "id": "14f665fa"
      },
      "outputs": [],
      "source": [
        "ship = {1:'Cargo', \n",
        "        2:'Military', \n",
        "        3:'Carrier', \n",
        "        4:'Cruise', \n",
        "        5:'Tankers'}\n",
        "\n",
        "# reverse the ship type dictionary\n",
        "#ship = dict([[v,k] for k,v in ship.items()])"
      ],
      "id": "14f665fa"
    },
    {
      "cell_type": "code",
      "execution_count": 11,
      "metadata": {
        "id": "ec6249b1"
      },
      "outputs": [],
      "source": [
        "train_files['ship'] = train_files['category'].map(ship).astype('category')\n",
        "labels = list(train_files['ship'].unique())"
      ],
      "id": "ec6249b1"
    },
    {
      "cell_type": "code",
      "execution_count": 12,
      "metadata": {
        "colab": {
          "base_uri": "https://localhost:8080/",
          "height": 298
        },
        "id": "2c2f4e67",
        "outputId": "05d88fa7-5f30-4d00-881f-518a3e5afc3b"
      },
      "outputs": [
        {
          "output_type": "display_data",
          "data": {
            "text/plain": [
              "<Figure size 432x288 with 1 Axes>"
            ],
            "image/png": "[encoded data removed]"
          },
          "metadata": {
            "needs_background": "light"
          }
        },
        {
          "output_type": "execute_result",
          "data": {
            "text/plain": [
              "2592"
            ]
          },
          "metadata": {},
          "execution_count": 12
        }
      ],
      "source": [
        "plt.title('Count of each ship type')\n",
        "sb.countplot(x=train_files['ship'].values)\n",
        "plt.show()\n",
        "gc.collect()"
      ],
      "id": "2c2f4e67"
    },
    {
      "cell_type": "code",
      "execution_count": 15,
      "metadata": {
        "colab": {
          "base_uri": "https://localhost:8080/"
        },
        "id": "53d20c1a",
        "outputId": "36e6af58-b8b3-484c-aef7-8184c8c9c1cb"
      },
      "outputs": [
        {
          "output_type": "execute_result",
          "data": {
            "text/plain": [
              "Cargo       2120\n",
              "Tankers     1217\n",
              "Military    1167\n",
              "Carrier      916\n",
              "Cruise       832\n",
              "Name: ship, dtype: int64"
            ]
          },
          "metadata": {},
          "execution_count": 15
        }
      ],
      "source": [
        "train_files['ship'].value_counts()"
      ],
      "id": "53d20c1a"
    },
    {
      "cell_type": "code",
      "execution_count": 14,
      "metadata": {
        "colab": {
          "base_uri": "https://localhost:8080/"
        },
        "id": "10c83cdf",
        "outputId": "de9b280e-d42e-4153-fec5-74cb1cbdc5e3"
      },
      "outputs": [
        {
          "output_type": "execute_result",
          "data": {
            "text/plain": [
              "Cargo       0.339091\n",
              "Tankers     0.194658\n",
              "Military    0.186660\n",
              "Carrier     0.146513\n",
              "Cruise      0.133077\n",
              "Name: ship, dtype: float64"
            ]
          },
          "metadata": {},
          "execution_count": 14
        }
      ],
      "source": [
        "train_files['ship'].value_counts(normalize=True)"
      ],
      "id": "10c83cdf"
    },
    {
      "cell_type": "code",
      "execution_count": null,
      "metadata": {
        "id": "nuisRlyR4syN"
      },
      "outputs": [],
      "source": [
        "# labels = train_files.sort_values('ship')\n",
        "# class_names = list(labels.ship.unique())\n",
        "# for i in class_names:\n",
        "#     os.makedirs(os.path.join('/content/drive/MyDrive/SmartBridge/Ship Classification/input/train',i))\n"
      ],
      "id": "nuisRlyR4syN"
    },
    {
      "cell_type": "code",
      "execution_count": null,
      "metadata": {
        "id": "WfYkFocY76f4"
      },
      "outputs": [],
      "source": [
        "# labels"
      ],
      "id": "WfYkFocY76f4"
    },
    {
      "cell_type": "code",
      "execution_count": null,
      "metadata": {
        "id": "lnz6SFhl4swk"
      },
      "outputs": [],
      "source": [
        "# import shutil\n",
        "# for c in class_names: # Category Name\n",
        "#   for i in list(labels[labels['ship']==c]['image']): # Image Id\n",
        "#     get_image = os.path.join('/content/drive/MyDrive/SmartBridge/Ship Classification/input/images/', i) # Path to Images\n",
        "#     move_image_to_cat = shutil.move(get_image, '/content/drive/MyDrive/SmartBridge/Ship Classification/input/train/'+c)"
      ],
      "id": "lnz6SFhl4swk"
    },
    {
      "cell_type": "code",
      "source": [
        ""
      ],
      "metadata": {
        "id": "L28FIWZnynJT"
      },
      "id": "L28FIWZnynJT",
      "execution_count": null,
      "outputs": []
    },
    {
      "cell_type": "code",
      "source": [
        ""
      ],
      "metadata": {
        "id": "8D6euikQym7j"
      },
      "id": "8D6euikQym7j",
      "execution_count": null,
      "outputs": []
    },
    {
      "cell_type": "code",
      "source": [
        ""
      ],
      "metadata": {
        "id": "Ls49eaj6ymwo"
      },
      "id": "Ls49eaj6ymwo",
      "execution_count": null,
      "outputs": []
    },
    {
      "cell_type": "code",
      "execution_count": 16,
      "metadata": {
        "id": "00ee6d57"
      },
      "outputs": [],
      "source": [
        "from keras.preprocessing.image import ImageDataGenerator\n",
        "from tensorflow.keras.optimizers import Adam\n",
        "from keras.callbacks import ModelCheckpoint\n",
        "from keras.applications.vgg16 import VGG16, preprocess_input"
      ],
      "id": "00ee6d57"
    },
    {
      "cell_type": "code",
      "execution_count": 19,
      "metadata": {
        "id": "VHkOap4wSeA0"
      },
      "outputs": [],
      "source": [
        "train_datagen = ImageDataGenerator(rotation_range=45, \n",
        "                             horizontal_flip=True, \n",
        "                             width_shift_range=0.5, \n",
        "                             height_shift_range=0.5, \n",
        "                             validation_split=0.2,\n",
        "                             preprocessing_function=preprocess_input\n",
        "                             )\n",
        "\n",
        "test_datagen = ImageDataGenerator(preprocessing_function=preprocess_input)\n",
        "\n"
      ],
      "id": "VHkOap4wSeA0"
    },
    {
      "cell_type": "code",
      "execution_count": 20,
      "metadata": {
        "colab": {
          "base_uri": "https://localhost:8080/"
        },
        "id": "603a5704",
        "outputId": "c9b1fe59-1708-4c23-a76e-f84d96559a95"
      },
      "outputs": [
        {
          "output_type": "stream",
          "name": "stdout",
          "text": [
            "Found 5003 images belonging to 5 classes.\n",
            "Found 1249 images belonging to 5 classes.\n",
            "Found 30 images belonging to 5 classes.\n"
          ]
        }
      ],
      "source": [
        "train_set = train_datagen.flow_from_directory( '/content/drive/MyDrive/SmartBridge/Ship Classification/input/train/',\n",
        "                               batch_size=16, subset='training',\n",
        "                               target_size=(224,224))\n",
        "\n",
        "validation_set = train_datagen.flow_from_directory('/content/drive/MyDrive/SmartBridge/Ship Classification/input/train/',\n",
        "                                                        batch_size=16, subset='validation',\n",
        "                                                        target_size=(224,224)\n",
        "                                                      )\n",
        "\n",
        "\n",
        "test_set = test_datagen.flow_from_directory('/content/drive/MyDrive/SmartBridge/Ship Classification/input/test',batch_size=16,\n",
        "                                            target_size=(224,224))"
      ],
      "id": "603a5704"
    },
    {
      "cell_type": "code",
      "execution_count": 21,
      "metadata": {
        "id": "XS6Ef6_ifkgt"
      },
      "outputs": [],
      "source": [
        "from keras.layers import Dense,Flatten, Dropout\n",
        "from keras.models import Model"
      ],
      "id": "XS6Ef6_ifkgt"
    },
    {
      "cell_type": "code",
      "execution_count": null,
      "metadata": {
        "id": "qtwrFIotoxlR"
      },
      "outputs": [],
      "source": [
        "def create_model(input_shape, n_classes, optimizer='rmsprop', fine_tune=0):\n",
        "    \"\"\"\n",
        "    Compiles a model integrated with VGG16 pretrained layers\n",
        "    \n",
        "    input_shape: tuple - the shape of input images (width, height, channels)\n",
        "    n_classes: int - number of classes for the output layer\n",
        "    optimizer: string - instantiated optimizer to use for training. Defaults to 'RMSProp'\n",
        "    fine_tune: int - The number of pre-trained layers to unfreeze.\n",
        "                If set to 0, all pretrained layers will freeze during training\n",
        "    \"\"\"\n",
        "    \n",
        "    # Pretrained convolutional layers are loaded using the Imagenet weights.\n",
        "    # Include_top is set to False, in order to exclude the model's fully-connected layers.\n",
        "    conv_base = VGG16(include_top=False,\n",
        "                     weights='imagenet', \n",
        "                     input_shape=input_shape)\n",
        "    \n",
        "    # Defines how many layers to freeze during training.\n",
        "    # Layers in the convolutional base are switched from trainable to non-trainable\n",
        "    # depending on the size of the fine-tuning parameter.\n",
        "    if fine_tune > 0:\n",
        "        for layer in conv_base.layers[:-fine_tune]:\n",
        "            layer.trainable = False\n",
        "    else:\n",
        "        for layer in conv_base.layers:\n",
        "            layer.trainable = False\n",
        "\n",
        "    # Create a new 'top' of the model (i.e. fully-connected layers).\n",
        "    # This is 'bootstrapping' a new top_model onto the pretrained layers.\n",
        "    top_model = conv_base.output\n",
        "    top_model = Flatten(name=\"flatten\")(top_model)\n",
        "    top_model = Dense(4096, activation='relu')(top_model)\n",
        "    top_model = Dense(1072, activation='relu')(top_model)\n",
        "    top_model = Dropout(0.2)(top_model)\n",
        "    output_layer = Dense(n_classes, activation='softmax')(top_model)\n",
        "    \n",
        "    # Group the convolutional base and new fully-connected layers into a Model object.\n",
        "    model = Model(inputs=conv_base.input, outputs=output_layer)\n",
        "\n",
        "    # Compiles the model for training.\n",
        "    model.compile(optimizer=optimizer, \n",
        "                  loss='categorical_crossentropy',\n",
        "                  metrics=['accuracy'])\n",
        "    \n",
        "    return model"
      ],
      "id": "qtwrFIotoxlR"
    },
    {
      "cell_type": "code",
      "execution_count": null,
      "metadata": {
        "colab": {
          "base_uri": "https://localhost:8080/"
        },
        "id": "_Up6c28Io63w",
        "outputId": "abd2412e-9e69-471b-943c-2b86c08ddd33"
      },
      "outputs": [
        {
          "name": "stdout",
          "output_type": "stream",
          "text": [
            "Downloading data from https://storage.googleapis.com/tensorflow/keras-applications/vgg16/vgg16_weights_tf_dim_ordering_tf_kernels_notop.h5\n",
            "58892288/58889256 [==============================] - 0s 0us/step\n",
            "58900480/58889256 [==============================] - 0s 0us/step\n"
          ]
        }
      ],
      "source": [
        "input_shape = (224, 224, 3)\n",
        "optim_1 = Adam(learning_rate=0.001)\n",
        "n_classes=5\n",
        "\n",
        "# First we'll train the model without Fine-tuning\n",
        "vgg_model = create_model(input_shape, n_classes, optim_1, fine_tune=0)"
      ],
      "id": "_Up6c28Io63w"
    },
    {
      "cell_type": "code",
      "execution_count": null,
      "metadata": {
        "colab": {
          "base_uri": "https://localhost:8080/"
        },
        "id": "WCxTNz2YvXlK",
        "outputId": "a359559a-9d49-4468-f47b-2ff1a93eedd6"
      },
      "outputs": [
        {
          "name": "stdout",
          "output_type": "stream",
          "text": [
            "Model: \"model\"\n",
            "_________________________________________________________________\n",
            " Layer (type)                Output Shape              Param #   \n",
            "=================================================================\n",
            " input_1 (InputLayer)        [(None, 224, 224, 3)]     0         \n",
            "                                                                 \n",
            " block1_conv1 (Conv2D)       (None, 224, 224, 64)      1792      \n",
            "                                                                 \n",
            " block1_conv2 (Conv2D)       (None, 224, 224, 64)      36928     \n",
            "                                                                 \n",
            " block1_pool (MaxPooling2D)  (None, 112, 112, 64)      0         \n",
            "                                                                 \n",
            " block2_conv1 (Conv2D)       (None, 112, 112, 128)     73856     \n",
            "                                                                 \n",
            " block2_conv2 (Conv2D)       (None, 112, 112, 128)     147584    \n",
            "                                                                 \n",
            " block2_pool (MaxPooling2D)  (None, 56, 56, 128)       0         \n",
            "                                                                 \n",
            " block3_conv1 (Conv2D)       (None, 56, 56, 256)       295168    \n",
            "                                                                 \n",
            " block3_conv2 (Conv2D)       (None, 56, 56, 256)       590080    \n",
            "                                                                 \n",
            " block3_conv3 (Conv2D)       (None, 56, 56, 256)       590080    \n",
            "                                                                 \n",
            " block3_pool (MaxPooling2D)  (None, 28, 28, 256)       0         \n",
            "                                                                 \n",
            " block4_conv1 (Conv2D)       (None, 28, 28, 512)       1180160   \n",
            "                                                                 \n",
            " block4_conv2 (Conv2D)       (None, 28, 28, 512)       2359808   \n",
            "                                                                 \n",
            " block4_conv3 (Conv2D)       (None, 28, 28, 512)       2359808   \n",
            "                                                                 \n",
            " block4_pool (MaxPooling2D)  (None, 14, 14, 512)       0         \n",
            "                                                                 \n",
            " block5_conv1 (Conv2D)       (None, 14, 14, 512)       2359808   \n",
            "                                                                 \n",
            " block5_conv2 (Conv2D)       (None, 14, 14, 512)       2359808   \n",
            "                                                                 \n",
            " block5_conv3 (Conv2D)       (None, 14, 14, 512)       2359808   \n",
            "                                                                 \n",
            " block5_pool (MaxPooling2D)  (None, 7, 7, 512)         0         \n",
            "                                                                 \n",
            " flatten (Flatten)           (None, 25088)             0         \n",
            "                                                                 \n",
            " dense (Dense)               (None, 4096)              102764544 \n",
            "                                                                 \n",
            " dense_1 (Dense)             (None, 1072)              4391984   \n",
            "                                                                 \n",
            " dropout (Dropout)           (None, 1072)              0         \n",
            "                                                                 \n",
            " dense_2 (Dense)             (None, 5)                 5365      \n",
            "                                                                 \n",
            "=================================================================\n",
            "Total params: 121,876,581\n",
            "Trainable params: 107,161,893\n",
            "Non-trainable params: 14,714,688\n",
            "_________________________________________________________________\n"
          ]
        }
      ],
      "source": [
        "vgg_model.summary()"
      ],
      "id": "WCxTNz2YvXlK"
    },
    {
      "cell_type": "code",
      "execution_count": null,
      "metadata": {
        "id": "yGdsdsnKoqUN"
      },
      "outputs": [],
      "source": [
        "cp = ModelCheckpoint('best.hdf5', monitor='val_loss',verbose=1, save_best_only=True)"
      ],
      "id": "yGdsdsnKoqUN"
    },
    {
      "cell_type": "code",
      "execution_count": null,
      "metadata": {
        "colab": {
          "base_uri": "https://localhost:8080/"
        },
        "id": "28a81966",
        "outputId": "d32b477e-fce3-4c3f-99ff-75bb2deda3cf"
      },
      "outputs": [
        {
          "name": "stderr",
          "output_type": "stream",
          "text": [
            "/usr/local/lib/python3.7/dist-packages/ipykernel_launcher.py:7: UserWarning: `Model.fit_generator` is deprecated and will be removed in a future version. Please use `Model.fit`, which supports generators.\n",
            "  import sys\n"
          ]
        },
        {
          "name": "stdout",
          "output_type": "stream",
          "text": [
            "Epoch 1/25\n",
            "312/312 [==============================] - ETA: 0s - loss: 6.7383 - accuracy: 0.5183\n",
            "Epoch 1: val_loss improved from inf to 0.95033, saving model to best.hdf5\n",
            "312/312 [==============================] - 2318s 7s/step - loss: 6.7383 - accuracy: 0.5183 - val_loss: 0.9503 - val_accuracy: 0.6314\n",
            "Epoch 2/25\n",
            "312/312 [==============================] - ETA: 0s - loss: 0.9575 - accuracy: 0.6489\n",
            "Epoch 2: val_loss improved from 0.95033 to 0.80836, saving model to best.hdf5\n",
            "312/312 [==============================] - 102s 328ms/step - loss: 0.9575 - accuracy: 0.6489 - val_loss: 0.8084 - val_accuracy: 0.6955\n",
            "Epoch 3/25\n",
            "312/312 [==============================] - ETA: 0s - loss: 0.8142 - accuracy: 0.6870\n",
            "Epoch 3: val_loss did not improve from 0.80836\n",
            "312/312 [==============================] - 99s 318ms/step - loss: 0.8142 - accuracy: 0.6870 - val_loss: 0.8554 - val_accuracy: 0.6891\n",
            "Epoch 4/25\n",
            "312/312 [==============================] - ETA: 0s - loss: 0.8158 - accuracy: 0.6894\n",
            "Epoch 4: val_loss did not improve from 0.80836\n",
            "312/312 [==============================] - 98s 314ms/step - loss: 0.8158 - accuracy: 0.6894 - val_loss: 0.8483 - val_accuracy: 0.6779\n",
            "Epoch 5/25\n",
            "312/312 [==============================] - ETA: 0s - loss: 0.7602 - accuracy: 0.7125\n",
            "Epoch 5: val_loss improved from 0.80836 to 0.74982, saving model to best.hdf5\n",
            "312/312 [==============================] - 102s 328ms/step - loss: 0.7602 - accuracy: 0.7125 - val_loss: 0.7498 - val_accuracy: 0.7123\n",
            "Epoch 6/25\n",
            "312/312 [==============================] - ETA: 0s - loss: 0.7563 - accuracy: 0.7143\n",
            "Epoch 6: val_loss improved from 0.74982 to 0.69605, saving model to best.hdf5\n",
            "312/312 [==============================] - 105s 335ms/step - loss: 0.7563 - accuracy: 0.7143 - val_loss: 0.6960 - val_accuracy: 0.7155\n",
            "Epoch 7/25\n",
            "312/312 [==============================] - ETA: 0s - loss: 0.7005 - accuracy: 0.7357\n",
            "Epoch 7: val_loss did not improve from 0.69605\n",
            "312/312 [==============================] - 97s 310ms/step - loss: 0.7005 - accuracy: 0.7357 - val_loss: 0.7367 - val_accuracy: 0.7107\n",
            "Epoch 8/25\n",
            "312/312 [==============================] - ETA: 0s - loss: 0.7007 - accuracy: 0.7391\n",
            "Epoch 8: val_loss did not improve from 0.69605\n",
            "312/312 [==============================] - 97s 312ms/step - loss: 0.7007 - accuracy: 0.7391 - val_loss: 0.7504 - val_accuracy: 0.7196\n",
            "Epoch 9/25\n",
            "312/312 [==============================] - ETA: 0s - loss: 0.7079 - accuracy: 0.7383\n",
            "Epoch 9: val_loss did not improve from 0.69605\n",
            "312/312 [==============================] - 97s 310ms/step - loss: 0.7079 - accuracy: 0.7383 - val_loss: 0.7498 - val_accuracy: 0.7147\n",
            "Epoch 10/25\n",
            "312/312 [==============================] - ETA: 0s - loss: 0.6844 - accuracy: 0.7526\n",
            "Epoch 10: val_loss did not improve from 0.69605\n",
            "312/312 [==============================] - 96s 306ms/step - loss: 0.6844 - accuracy: 0.7526 - val_loss: 0.8599 - val_accuracy: 0.7308\n",
            "Epoch 11/25\n",
            "312/312 [==============================] - ETA: 0s - loss: 0.6968 - accuracy: 0.7393\n",
            "Epoch 11: val_loss improved from 0.69605 to 0.68672, saving model to best.hdf5\n",
            "312/312 [==============================] - 103s 329ms/step - loss: 0.6968 - accuracy: 0.7393 - val_loss: 0.6867 - val_accuracy: 0.7460\n",
            "Epoch 12/25\n",
            "312/312 [==============================] - ETA: 0s - loss: 0.6779 - accuracy: 0.7467\n",
            "Epoch 12: val_loss did not improve from 0.68672\n",
            "312/312 [==============================] - 96s 309ms/step - loss: 0.6779 - accuracy: 0.7467 - val_loss: 0.7522 - val_accuracy: 0.7452\n",
            "Epoch 13/25\n",
            "312/312 [==============================] - ETA: 0s - loss: 0.7030 - accuracy: 0.7427\n",
            "Epoch 13: val_loss did not improve from 0.68672\n",
            "312/312 [==============================] - 97s 311ms/step - loss: 0.7030 - accuracy: 0.7427 - val_loss: 0.7308 - val_accuracy: 0.7404\n",
            "Epoch 14/25\n",
            "312/312 [==============================] - ETA: 0s - loss: 0.6757 - accuracy: 0.7524\n",
            "Epoch 14: val_loss improved from 0.68672 to 0.68386, saving model to best.hdf5\n",
            "312/312 [==============================] - 102s 328ms/step - loss: 0.6757 - accuracy: 0.7524 - val_loss: 0.6839 - val_accuracy: 0.7388\n",
            "Epoch 15/25\n",
            "312/312 [==============================] - ETA: 0s - loss: 0.6755 - accuracy: 0.7514\n",
            "Epoch 15: val_loss did not improve from 0.68386\n",
            "312/312 [==============================] - 97s 309ms/step - loss: 0.6755 - accuracy: 0.7514 - val_loss: 0.6950 - val_accuracy: 0.7316\n",
            "Epoch 16/25\n",
            "312/312 [==============================] - ETA: 0s - loss: 0.6573 - accuracy: 0.7568\n",
            "Epoch 16: val_loss improved from 0.68386 to 0.65658, saving model to best.hdf5\n",
            "312/312 [==============================] - 101s 323ms/step - loss: 0.6573 - accuracy: 0.7568 - val_loss: 0.6566 - val_accuracy: 0.7572\n",
            "Epoch 17/25\n",
            "312/312 [==============================] - ETA: 0s - loss: 0.6703 - accuracy: 0.7622\n",
            "Epoch 17: val_loss improved from 0.65658 to 0.63992, saving model to best.hdf5\n",
            "312/312 [==============================] - 102s 326ms/step - loss: 0.6703 - accuracy: 0.7622 - val_loss: 0.6399 - val_accuracy: 0.7700\n",
            "Epoch 18/25\n",
            "312/312 [==============================] - ETA: 0s - loss: 0.6542 - accuracy: 0.7604\n",
            "Epoch 18: val_loss did not improve from 0.63992\n",
            "312/312 [==============================] - 100s 322ms/step - loss: 0.6542 - accuracy: 0.7604 - val_loss: 0.6844 - val_accuracy: 0.7572\n",
            "Epoch 19/25\n",
            "312/312 [==============================] - ETA: 0s - loss: 0.6292 - accuracy: 0.7702\n",
            "Epoch 19: val_loss did not improve from 0.63992\n",
            "312/312 [==============================] - 96s 308ms/step - loss: 0.6292 - accuracy: 0.7702 - val_loss: 0.6948 - val_accuracy: 0.7540\n",
            "Epoch 20/25\n",
            "312/312 [==============================] - ETA: 0s - loss: 0.6113 - accuracy: 0.7794\n",
            "Epoch 20: val_loss did not improve from 0.63992\n",
            "312/312 [==============================] - 97s 312ms/step - loss: 0.6113 - accuracy: 0.7794 - val_loss: 0.6609 - val_accuracy: 0.7596\n",
            "Epoch 21/25\n",
            "312/312 [==============================] - ETA: 0s - loss: 0.6358 - accuracy: 0.7678\n",
            "Epoch 21: val_loss improved from 0.63992 to 0.63566, saving model to best.hdf5\n",
            "312/312 [==============================] - 102s 326ms/step - loss: 0.6358 - accuracy: 0.7678 - val_loss: 0.6357 - val_accuracy: 0.7516\n",
            "Epoch 22/25\n",
            "312/312 [==============================] - ETA: 0s - loss: 0.6547 - accuracy: 0.7606\n",
            "Epoch 22: val_loss did not improve from 0.63566\n",
            "312/312 [==============================] - 99s 316ms/step - loss: 0.6547 - accuracy: 0.7606 - val_loss: 0.6885 - val_accuracy: 0.7348\n",
            "Epoch 23/25\n",
            "312/312 [==============================] - ETA: 0s - loss: 0.6258 - accuracy: 0.7686\n",
            "Epoch 23: val_loss did not improve from 0.63566\n",
            "312/312 [==============================] - 96s 309ms/step - loss: 0.6258 - accuracy: 0.7686 - val_loss: 0.6890 - val_accuracy: 0.7604\n",
            "Epoch 24/25\n",
            "312/312 [==============================] - ETA: 0s - loss: 0.6316 - accuracy: 0.7674\n",
            "Epoch 24: val_loss did not improve from 0.63566\n",
            "312/312 [==============================] - 97s 312ms/step - loss: 0.6316 - accuracy: 0.7674 - val_loss: 0.7138 - val_accuracy: 0.7204\n",
            "Epoch 25/25\n",
            "312/312 [==============================] - ETA: 0s - loss: 0.6271 - accuracy: 0.7680\n",
            "Epoch 25: val_loss did not improve from 0.63566\n",
            "312/312 [==============================] - 97s 310ms/step - loss: 0.6271 - accuracy: 0.7680 - val_loss: 0.6429 - val_accuracy: 0.7484\n"
          ]
        }
      ],
      "source": [
        "epochs = 25\n",
        "history = vgg_model.fit_generator(generator=train_set, \n",
        "                              steps_per_epoch=train_set.n//train_set.batch_size, \n",
        "                              validation_steps = validation_set.n//validation_set.batch_size,\n",
        "                              validation_data=validation_set, \n",
        "                              callbacks=[cp],\n",
        "                              epochs=epochs)"
      ],
      "id": "28a81966"
    },
    {
      "cell_type": "code",
      "execution_count": null,
      "metadata": {
        "id": "O-qycm1K7ung"
      },
      "outputs": [],
      "source": [
        "def plt_dynamic(x, vy, ty, ax, colors=['b'], title=''):\n",
        "    ax.plot(x, vy, 'b', label='Validation Loss')\n",
        "    ax.plot(x, ty, 'r', label='Train Loss')\n",
        "    plt.legend()\n",
        "    plt.grid()\n",
        "    plt.title(title)\n",
        "    fig.canvas.draw()\n",
        "    plt.show()\n",
        "    gc.collect()"
      ],
      "id": "O-qycm1K7ung"
    },
    {
      "cell_type": "code",
      "execution_count": null,
      "metadata": {
        "colab": {
          "base_uri": "https://localhost:8080/",
          "height": 295
        },
        "id": "2c2afa60",
        "outputId": "197cec1f-9c6a-494e-e3b3-abf4478ea60d"
      },
      "outputs": [
        {
          "data": {
            "image/png": "[encoded data removed]",
            "text/plain": [
              "<Figure size 432x288 with 1 Axes>"
            ]
          },
          "metadata": {},
          "output_type": "display_data"
        }
      ],
      "source": [
        "fig, ax = plt.subplots(1,1)\n",
        "vy = history.history['val_loss']\n",
        "ty = history.history['loss']\n",
        "ax.set_xlabel('Epoch')\n",
        "x = list(range(1,epochs+1))\n",
        "ax.set_ylabel('Categorical Crossentropy Loss')\n",
        "plt_dynamic(x,vy,ty,ax, title='Training History - VGG16')"
      ],
      "id": "2c2afa60"
    },
    {
      "cell_type": "code",
      "execution_count": null,
      "metadata": {
        "id": "r9jwAaGRajyo"
      },
      "outputs": [],
      "source": [
        "vgg_model.save('vgg16-ship-classification.h5')"
      ],
      "id": "r9jwAaGRajyo"
    }
  ],
  "metadata": {
    "accelerator": "GPU",
    "colab": {
      "name": "Ship Classification.ipynb",
      "provenance": []
    },
    "gpuClass": "standard",
    "kernelspec": {
      "display_name": "Python 3 (ipykernel)",
      "language": "python",
      "name": "python3"
    },
    "language_info": {
      "codemirror_mode": {
        "name": "ipython",
        "version": 3
      },
      "file_extension": ".py",
      "mimetype": "text/x-python",
      "name": "python",
      "nbconvert_exporter": "python",
      "pygments_lexer": "ipython3",
      "version": "3.9.12"
    }
  },
  "nbformat": 4,
  "nbformat_minor": 5
}